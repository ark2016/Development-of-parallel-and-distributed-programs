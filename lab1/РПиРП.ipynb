{
  "nbformat": 4,
  "nbformat_minor": 0,
  "metadata": {
    "colab": {
      "provenance": []
    },
    "kernelspec": {
      "name": "python3",
      "display_name": "Python 3"
    },
    "language_info": {
      "name": "python"
    }
  },
  "cells": [
    {
      "cell_type": "markdown",
      "source": [
        "# 1 lab"
      ],
      "metadata": {
        "id": "yqkdThMB_kPq"
      }
    },
    {
      "cell_type": "code",
      "execution_count": null,
      "metadata": {
        "id": "wsgnrDzNFrck"
      },
      "outputs": [],
      "source": [
        "import numpy as np"
      ]
    },
    {
      "cell_type": "code",
      "source": [
        "a = 2**9\n",
        "a"
      ],
      "metadata": {
        "colab": {
          "base_uri": "https://localhost:8080/"
        },
        "id": "QGt-i83AILy1",
        "outputId": "3eb63a92-752f-4f51-ef57-1b015a1fdf48"
      },
      "execution_count": null,
      "outputs": [
        {
          "output_type": "execute_result",
          "data": {
            "text/plain": [
              "512"
            ]
          },
          "metadata": {},
          "execution_count": 51
        }
      ]
    },
    {
      "cell_type": "code",
      "source": [
        "first_matrix = np.random.rand(a, a)"
      ],
      "metadata": {
        "id": "sZXnXcuWHR6H"
      },
      "execution_count": null,
      "outputs": []
    },
    {
      "cell_type": "code",
      "source": [
        "second_matrix = np.random.rand(a, a)"
      ],
      "metadata": {
        "id": "WH_45vWUHb8q"
      },
      "execution_count": null,
      "outputs": []
    },
    {
      "cell_type": "code",
      "source": [
        "result_matrix = np.zeros_like(first_matrix)"
      ],
      "metadata": {
        "id": "t-MMOOPNJN5b"
      },
      "execution_count": null,
      "outputs": []
    },
    {
      "cell_type": "code",
      "source": [
        "%%time\n",
        "for i in range(a):\n",
        "  for j in range(a):\n",
        "    for k in range(a):\n",
        "       result_matrix[i][j] += first_matrix[i][k] * second_matrix[k][j]"
      ],
      "metadata": {
        "colab": {
          "base_uri": "https://localhost:8080/"
        },
        "id": "IPjOz5q5HMY1",
        "outputId": "777f4ab1-fa05-4047-99e8-79a5aaaedf92"
      },
      "execution_count": null,
      "outputs": [
        {
          "output_type": "stream",
          "name": "stdout",
          "text": [
            "CPU times: user 2min 57s, sys: 363 ms, total: 2min 57s\n",
            "Wall time: 3min 2s\n"
          ]
        }
      ]
    },
    {
      "cell_type": "code",
      "source": [
        "from joblib import Parallel, delayed"
      ],
      "metadata": {
        "id": "i8_gW-qcLnhZ"
      },
      "execution_count": null,
      "outputs": []
    },
    {
      "cell_type": "code",
      "source": [
        "a = 2**9"
      ],
      "metadata": {
        "id": "XoTBrLNELwxK"
      },
      "execution_count": null,
      "outputs": []
    },
    {
      "cell_type": "code",
      "source": [
        "first_matrix = np.random.rand(a, a)\n",
        "second_matrix = np.random.rand(a, a)"
      ],
      "metadata": {
        "id": "gb4JLh1sLwzm"
      },
      "execution_count": null,
      "outputs": []
    },
    {
      "cell_type": "code",
      "source": [
        "result_matrix = np.zeros_like(first_matrix)"
      ],
      "metadata": {
        "id": "GGSUqlvCLw2t"
      },
      "execution_count": null,
      "outputs": []
    },
    {
      "cell_type": "code",
      "source": [
        "def compute_element(i, j):\n",
        "    return sum(first_matrix[i, k] * second_matrix[k, j] for k in range(a))"
      ],
      "metadata": {
        "id": "6h_nCfibLnj6"
      },
      "execution_count": null,
      "outputs": []
    },
    {
      "cell_type": "code",
      "source": [
        "%%time\n",
        "result_matrix = Parallel(n_jobs=-1)(delayed(compute_element)(i, j) for i in range(a) for j in range(a))\n",
        "result_matrix = np.array(result_matrix).reshape(a, a)"
      ],
      "metadata": {
        "colab": {
          "base_uri": "https://localhost:8080/"
        },
        "id": "dz-jTB8-Lnmc",
        "outputId": "920710bb-6172-43c6-dfc5-76636960a3e4"
      },
      "execution_count": null,
      "outputs": [
        {
          "output_type": "stream",
          "name": "stdout",
          "text": [
            "CPU times: user 5.43 s, sys: 535 ms, total: 5.97 s\n",
            "Wall time: 3min 5s\n"
          ]
        }
      ]
    },
    {
      "cell_type": "code",
      "source": [
        "import multiprocessing\n",
        "\n",
        "num_cores = multiprocessing.cpu_count()\n",
        "print(f\"Number of cores: {num_cores}\")"
      ],
      "metadata": {
        "colab": {
          "base_uri": "https://localhost:8080/"
        },
        "id": "cFab5KVBLw5h",
        "outputId": "e73b00d1-2cba-444d-e80e-28a313f1ab3e"
      },
      "execution_count": null,
      "outputs": [
        {
          "output_type": "stream",
          "name": "stdout",
          "text": [
            "Number of cores: 2\n"
          ]
        }
      ]
    }
  ]
}